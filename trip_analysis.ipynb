{
 "cells": [
  {
   "cell_type": "code",
   "execution_count": 10,
   "metadata": {},
   "outputs": [],
   "source": [
    "#import pyarrow.parquet as pq\n",
    "\n",
    "import pandas as pd\n",
    "import numpy as np\n"
   ]
  },
  {
   "cell_type": "code",
   "execution_count": 11,
   "metadata": {},
   "outputs": [
    {
     "name": "stderr",
     "output_type": "stream",
     "text": [
      "C:\\Users\\Arpita\\AppData\\Local\\Temp\\ipykernel_8128\\2454422005.py:10: FutureWarning: The default value of numeric_only in DataFrame.min is deprecated. In a future version, it will default to False. In addition, specifying 'numeric_only=None' is deprecated. Select only valid columns or specify the value of numeric_only to silence this warning.\n",
      "  trips.min()\n"
     ]
    },
    {
     "data": {
      "text/plain": [
       "VendorID                                   1\n",
       "tpep_pickup_datetime     2008-12-31 22:23:09\n",
       "tpep_dropoff_datetime    2008-12-31 23:06:56\n",
       "passenger_count                          0.0\n",
       "trip_distance                            0.0\n",
       "RatecodeID                               1.0\n",
       "PULocationID                               1\n",
       "DOLocationID                               1\n",
       "payment_type                               0\n",
       "fare_amount                           -480.0\n",
       "extra                                   -4.5\n",
       "mta_tax                                 -0.5\n",
       "tip_amount                           -125.22\n",
       "tolls_amount                           -31.4\n",
       "improvement_surcharge                   -0.3\n",
       "total_amount                          -480.3\n",
       "congestion_surcharge                    -2.5\n",
       "airport_fee                            -1.25\n",
       "total time taken           -3 days +14:37:36\n",
       "dtype: object"
      ]
     },
     "execution_count": 11,
     "metadata": {},
     "output_type": "execute_result"
    }
   ],
   "source": [
    "#To read the parquet file using pyarrow\n",
    "#trips = pq.read_table('trips.parquet')\n",
    "#trips = trips.to_pandas()\n",
    "\n",
    "\n",
    "#Reading the parquet file using pandas\n",
    "trips = pd.read_parquet('C:/Users/Arpita/Downloads/yellow_tripdata_2022-01.parquet',engine=\"auto\",columns=None)\n",
    "#deriving a new column of time taken for the trip\n",
    "trips[\"total time taken\"]=trips[\"tpep_dropoff_datetime\"]-trips[\"tpep_pickup_datetime\"]\n",
    "trips.min()\n"
   ]
  },
  {
   "cell_type": "code",
   "execution_count": 12,
   "metadata": {},
   "outputs": [],
   "source": [
    "#Taking the subset of first 70 rowws of the given data\n",
    "dfh=trips.head(70)\n",
    "#print(dfh)"
   ]
  },
  {
   "cell_type": "code",
   "execution_count": null,
   "metadata": {},
   "outputs": [],
   "source": []
  },
  {
   "cell_type": "code",
   "execution_count": 13,
   "metadata": {},
   "outputs": [
    {
     "data": {
      "text/plain": [
       "VendorID                                   2\n",
       "tpep_pickup_datetime     2022-01-01 18:04:06\n",
       "tpep_dropoff_datetime    2022-01-01 18:40:52\n",
       "passenger_count                          6.0\n",
       "trip_distance                           19.5\n",
       "RatecodeID                               2.0\n",
       "store_and_fwd_flag                         Y\n",
       "PULocationID                             263\n",
       "DOLocationID                             263\n",
       "payment_type                               4\n",
       "fare_amount                             52.0\n",
       "extra                                   3.75\n",
       "mta_tax                                  0.5\n",
       "tip_amount                             15.75\n",
       "tolls_amount                            6.55\n",
       "improvement_surcharge                    0.3\n",
       "total_amount                           78.85\n",
       "congestion_surcharge                     2.5\n",
       "airport_fee                             1.25\n",
       "total time taken             0 days 00:37:32\n",
       "dtype: object"
      ]
     },
     "execution_count": 13,
     "metadata": {},
     "output_type": "execute_result"
    }
   ],
   "source": [
    "#checking for the maximum value of each column\n",
    "dfh.max()"
   ]
  },
  {
   "attachments": {},
   "cell_type": "markdown",
   "metadata": {},
   "source": []
  },
  {
   "cell_type": "code",
   "execution_count": 14,
   "metadata": {},
   "outputs": [
    {
     "name": "stdout",
     "output_type": "stream",
     "text": [
      "Empty DataFrame\n",
      "Columns: [VendorID, tpep_pickup_datetime, tpep_dropoff_datetime, passenger_count, trip_distance, RatecodeID, store_and_fwd_flag, PULocationID, DOLocationID, payment_type, fare_amount, extra, mta_tax, tip_amount, tolls_amount, improvement_surcharge, total_amount, congestion_surcharge, airport_fee, total time taken]\n",
      "Index: []\n"
     ]
    }
   ],
   "source": [
    "#reading the column names from the file\n",
    "print(trips.head(0))"
   ]
  },
  {
   "cell_type": "code",
   "execution_count": 15,
   "metadata": {},
   "outputs": [
    {
     "name": "stderr",
     "output_type": "stream",
     "text": [
      "C:\\Users\\Arpita\\AppData\\Local\\Temp\\ipykernel_8128\\81961390.py:2: FutureWarning: null_counts is deprecated. Use show_counts instead\n",
      "  print(trips.info(null_counts=True))\n"
     ]
    },
    {
     "name": "stdout",
     "output_type": "stream",
     "text": [
      "<class 'pandas.core.frame.DataFrame'>\n",
      "RangeIndex: 2463931 entries, 0 to 2463930\n",
      "Data columns (total 20 columns):\n",
      " #   Column                 Non-Null Count    Dtype          \n",
      "---  ------                 --------------    -----          \n",
      " 0   VendorID               2463931 non-null  int64          \n",
      " 1   tpep_pickup_datetime   2463931 non-null  datetime64[ns] \n",
      " 2   tpep_dropoff_datetime  2463931 non-null  datetime64[ns] \n",
      " 3   passenger_count        2392428 non-null  float64        \n",
      " 4   trip_distance          2463931 non-null  float64        \n",
      " 5   RatecodeID             2392428 non-null  float64        \n",
      " 6   store_and_fwd_flag     2392428 non-null  object         \n",
      " 7   PULocationID           2463931 non-null  int64          \n",
      " 8   DOLocationID           2463931 non-null  int64          \n",
      " 9   payment_type           2463931 non-null  int64          \n",
      " 10  fare_amount            2463931 non-null  float64        \n",
      " 11  extra                  2463931 non-null  float64        \n",
      " 12  mta_tax                2463931 non-null  float64        \n",
      " 13  tip_amount             2463931 non-null  float64        \n",
      " 14  tolls_amount           2463931 non-null  float64        \n",
      " 15  improvement_surcharge  2463931 non-null  float64        \n",
      " 16  total_amount           2463931 non-null  float64        \n",
      " 17  congestion_surcharge   2392428 non-null  float64        \n",
      " 18  airport_fee            2392428 non-null  float64        \n",
      " 19  total time taken       2463931 non-null  timedelta64[ns]\n",
      "dtypes: datetime64[ns](2), float64(12), int64(4), object(1), timedelta64[ns](1)\n",
      "memory usage: 376.0+ MB\n",
      "None\n"
     ]
    }
   ],
   "source": [
    "#checking for the enries with null values\n",
    "print(trips.info(null_counts=True))"
   ]
  },
  {
   "cell_type": "code",
   "execution_count": 16,
   "metadata": {},
   "outputs": [],
   "source": [
    "#removing the null values\n",
    "trips.dropna(how=\"any\",inplace = True)"
   ]
  },
  {
   "attachments": {},
   "cell_type": "markdown",
   "metadata": {},
   "source": [
    "Plotting the graphs:\n",
    "\n",
    "Visualization-1: A distance vs time glyph"
   ]
  },
  {
   "cell_type": "code",
   "execution_count": 17,
   "metadata": {},
   "outputs": [],
   "source": [
    "from datetime import datetime, timedelta\n",
    "\n",
    "from bokeh.models import DatetimeTickFormatter, NumeralTickFormatter,Spinner,Div,BoxAnnotation\n",
    "from bokeh.plotting import figure, show, output_notebook,output_file,curdoc\n",
    "from bokeh.layouts import layout\n",
    "output_notebook\n",
    "\n",
    "\n",
    "dist=dfh[\"trip_distance\"]*1000\n",
    "time=dfh[\"total time taken\"].dt.total_seconds()/60\n",
    "#radii=dist/20000\n",
    "\n",
    "curdoc().theme = \"light_minimal\"\n",
    "\n",
    "colors1 = [\"#%02x%04x%02x\" % (255, int(round(value * 255 / 100)), 255) for value in dist]\n",
    "colors2 = [\"#%04x%02x%02x\" % (255, int(round(value * 255 / 100)), 255) for value in time]\n",
    "\n",
    "\n",
    "graph=figure(title=\"Average speed of taxi for each trip\",\n",
    "             sizing_mode=\"stretch_width\",\n",
    "             height=500,\n",
    "             x_axis_label=\"Time (in minutes)\",\n",
    "             y_axis_label=\"Distance covered (in meters)\")\n",
    "#graph.line(x=time,y=dist,legend_label=\"avg speed\",line_width=0.4,color=\"red\")\n",
    "bar=graph.vbar(x=time,top=dist,fill_color=colors2,width=0.05,bottom=0)\n",
    "circle=graph.circle(x=time,y=dist,fill_color=colors1,size =20)\n",
    "circle2=graph.circle(x=time,y=dist,legend_label=\"avg speed\",color=\"navy\",size =2)\n",
    "\n",
    "# add box annotations\n",
    "low_box = BoxAnnotation(top=5000, fill_alpha=0.2, fill_color=\"green\")\n",
    "mid_box1 = BoxAnnotation(bottom=5000, top=10000, fill_alpha=0.2, fill_color=\"olive\")\n",
    "mid_box2 = BoxAnnotation(bottom=10000, top=15000, fill_alpha=0.2, fill_color=\"blue\")\n",
    "high_box = BoxAnnotation(bottom=15000, fill_alpha=0.2, fill_color=\"navy\")\n",
    "\n",
    "# add boxes to existing figure\n",
    "graph.add_layout(low_box)\n",
    "graph.add_layout(mid_box1)\n",
    "graph.add_layout(mid_box2)\n",
    "graph.add_layout(high_box)\n",
    "\n",
    "\n",
    "# set up textarea (div)\n",
    "#div = Div( \n",
    "# text=\"\"\"\n",
    "#          <p>Select the circle's size using this control element:</p>\n",
    " #         \"\"\",\n",
    "  #  width=200,\n",
    "   # height=30,\n",
    "#)\n",
    "\n",
    "# set up spinner\n",
    "#spinner = Spinner(\n",
    " #   title=\"Circle size\",\n",
    "  #  low=10,\n",
    "   # high=500,\n",
    "    #step=10,\n",
    "    #value=circle.glyph.size,\n",
    "    #width=200,\n",
    "#)\n",
    "#spinner.js_link(\"value\", circle.glyph, \"size\")\n",
    "\n",
    "#layout = layout([[div, spinner],[graph]])\n",
    "#show(layout)\n",
    "\n",
    "show(graph)"
   ]
  },
  {
   "attachments": {},
   "cell_type": "markdown",
   "metadata": {},
   "source": []
  },
  {
   "cell_type": "code",
   "execution_count": null,
   "metadata": {},
   "outputs": [],
   "source": []
  }
 ],
 "metadata": {
  "kernelspec": {
   "display_name": "base",
   "language": "python",
   "name": "python3"
  },
  "language_info": {
   "codemirror_mode": {
    "name": "ipython",
    "version": 3
   },
   "file_extension": ".py",
   "mimetype": "text/x-python",
   "name": "python",
   "nbconvert_exporter": "python",
   "pygments_lexer": "ipython3",
   "version": "3.10.4"
  },
  "orig_nbformat": 4
 },
 "nbformat": 4,
 "nbformat_minor": 2
}
