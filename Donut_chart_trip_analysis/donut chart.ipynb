{
 "cells": [
  {
   "cell_type": "code",
   "execution_count": 59,
   "metadata": {},
   "outputs": [],
   "source": [
    "import pandas as pd\n",
    "import numpy as np\n",
    "#Reading the parquet file using pandas\n",
    "df = pd.read_parquet('C:/Users/Arpita/Downloads/yellow_tripdata_2022-01.parquet',engine=\"auto\",columns=None)\n",
    "#Taking the subset of first 70 rowws of the given data\n",
    "#df=trips.head(70)\n",
    "#print(df)"
   ]
  },
  {
   "cell_type": "code",
   "execution_count": 73,
   "metadata": {},
   "outputs": [],
   "source": [
    "df['frequency'] = float(1)\n",
    "\n",
    "rateidtypes = {1:\"RatecodeID-1\", 2:\"RatecodeID-2\", 3:\"RatecodeID-3\", 4:\"RatecodeID-4\", 5:\"RatecodeID-5\",6: \"RatecodeID-6\",99:\"RatecodeID-99\"}\n",
    "\n",
    "df['RCID']= df['RatecodeID'].map(rateidtypes)"
   ]
  },
  {
   "cell_type": "code",
   "execution_count": 84,
   "metadata": {},
   "outputs": [
    {
     "name": "stdout",
     "output_type": "stream",
     "text": [
      "               VendorID  passenger_count  trip_distance  RatecodeID  \\\n",
      "RCID                                                                  \n",
      "RatecodeID-1    3898192        3182253.0     5999670.67   2296363.0   \n",
      "RatecodeID-2     115868         102033.0     1161604.94    133246.0   \n",
      "RatecodeID-3       6925           6591.0       65536.76     12042.0   \n",
      "RatecodeID-4       5458           4553.0       65614.52     12472.0   \n",
      "RatecodeID-5      24808          19980.0       64696.82     67805.0   \n",
      "RatecodeID-6         29             29.0          10.26       102.0   \n",
      "RatecodeID-99      8746           8728.0       58670.55    864468.0   \n",
      "\n",
      "               PULocationID  DOLocationID  payment_type  fare_amount  \\\n",
      "RCID                                                                   \n",
      "RatecodeID-1      383395688     377047250       2824911  25764070.37   \n",
      "RatecodeID-2        9386151      10217236         82619   3373973.16   \n",
      "RatecodeID-3         634235        178849          5635    247994.00   \n",
      "RatecodeID-4         431583        780949          4337    215761.95   \n",
      "RatecodeID-5        2156069       2437585         16752    730327.65   \n",
      "RatecodeID-6           2375          2115            39       197.19   \n",
      "RatecodeID-99       1115568       1155621          8747    308053.16   \n",
      "\n",
      "                    extra     mta_tax  tip_amount  tolls_amount  \\\n",
      "RCID                                                              \n",
      "RatecodeID-1   2367256.97  1135676.68  4957083.88     459694.14   \n",
      "RatecodeID-2    103649.05    32423.50   561217.54     330786.71   \n",
      "RatecodeID-3       864.08        0.00    35578.11      54357.97   \n",
      "RatecodeID-4      2057.00     1494.50    22446.34       8050.95   \n",
      "RatecodeID-5       599.05     1619.50    90523.86      25839.55   \n",
      "RatecodeID-6         1.25        7.50        0.00          0.00   \n",
      "RatecodeID-99       62.20     4348.30       53.35      18020.71   \n",
      "\n",
      "               improvement_surcharge  total_amount  congestion_surcharge  \\\n",
      "RCID                                                                       \n",
      "RatecodeID-1                681787.2   39155333.14            5308801.00   \n",
      "RatecodeID-2                 19465.5    4567745.06             140677.50   \n",
      "RatecodeID-3                  1143.9     340350.16                  5.00   \n",
      "RatecodeID-4                   924.0     253606.29                782.50   \n",
      "RatecodeID-5                  3792.3     864406.11               9970.00   \n",
      "RatecodeID-6                     4.5        215.44                  3.75   \n",
      "RatecodeID-99                 2604.6     333167.32                 52.50   \n",
      "\n",
      "               airport_fee  frequency  \n",
      "RCID                                   \n",
      "RatecodeID-1     132508.75  2296363.0  \n",
      "RatecodeID-2      58877.50    66623.0  \n",
      "RatecodeID-3        573.75     4014.0  \n",
      "RatecodeID-4       3112.50     3118.0  \n",
      "RatecodeID-5       2298.75    13561.0  \n",
      "RatecodeID-6          2.50       17.0  \n",
      "RatecodeID-99         0.00     8732.0  \n"
     ]
    }
   ],
   "source": [
    "from math import pi\n",
    "\n",
    "from bokeh.io import show\n",
    "from bokeh.models import (AnnularWedge, ColumnDataSource,\n",
    "                          Legend, LegendItem, Plot, Range1d)\n",
    "\n",
    "\n",
    "xdr = Range1d(start=-2, end=2)\n",
    "ydr = Range1d(start=-2, end=2)\n",
    "\n",
    "plot = Plot(x_range=xdr, y_range=ydr)\n",
    "plot.title.text = \"Total amount paid in relation with RatecodeID (Qualitative)\"\n",
    "plot.toolbar_location = None\n",
    "\n",
    "colors = {\n",
    "    \"RatecodeID-1\": \"seagreen\",\n",
    "    \"RatecodeID-2\": \"tomato\",\n",
    "    \"RatecodeID-3\": \"orchid\",\n",
    "    \"RatecodeID-4\": \"firebrick\",\n",
    "    \"RatecodeID-5\": \"skyblue\",\n",
    "    \"RatecodeID-6\": \"lightgray\",\n",
    "    \"RatecodeID-99\": \"pink\"\n",
    "}\n",
    "\n",
    "selected = df.groupby(\"RCID\").sum(\"numeric_only=True\")\n",
    "print(selected)"
   ]
  },
  {
   "cell_type": "code",
   "execution_count": 90,
   "metadata": {},
   "outputs": [],
   "source": [
    "rcid = selected.index.tolist()\n",
    "\n",
    "angles = selected.tolls_amount.map(lambda x: 2*pi*(x/1000000)).cumsum().tolist()\n",
    "\n",
    "rcid_source = ColumnDataSource(dict(\n",
    "    start  = [0] + angles[:-1],\n",
    "    end    = angles,\n",
    "    colors = [colors[i] for i in rcid],\n",
    "))\n",
    "\n",
    "glyph = AnnularWedge(x=0, y=0, inner_radius=0.9, outer_radius=1.8,\n",
    "                     start_angle=\"start\", end_angle=\"end\",\n",
    "                     line_color=\"white\", line_width=3, fill_color=\"colors\")\n",
    "r= plot.add_glyph(rcid_source, glyph)\n",
    "\n",
    "legend = Legend(location=\"center\")\n",
    "for i, name in enumerate(colors):\n",
    "    legend.items.append(LegendItem(label=name, renderers=[r], index=i))\n",
    "plot.add_layout(legend, \"center\")\n",
    "\n",
    "show(plot)"
   ]
  }
 ],
 "metadata": {
  "kernelspec": {
   "display_name": "Python 3",
   "language": "python",
   "name": "python3"
  },
  "language_info": {
   "codemirror_mode": {
    "name": "ipython",
    "version": 3
   },
   "file_extension": ".py",
   "mimetype": "text/x-python",
   "name": "python",
   "nbconvert_exporter": "python",
   "pygments_lexer": "ipython3",
   "version": "3.10.4"
  },
  "orig_nbformat": 4
 },
 "nbformat": 4,
 "nbformat_minor": 2
}
