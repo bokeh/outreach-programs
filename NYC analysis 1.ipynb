{
 "cells": [
  {
   "cell_type": "code",
   "execution_count": null,
   "id": "5f07eabf",
   "metadata": {},
   "outputs": [],
   "source": [
    "import pandas as pd \n",
    "from bokeh.plotting import figure, output_notebook, show\n",
    "from sklearn.model_selection import train_test_split\n",
    "from bokeh.models import NumeralTickFormatter\n",
    "\n",
    "output_notebook()f"
   ]
  },
  {
   "cell_type": "code",
   "execution_count": null,
   "id": "9815dd23",
   "metadata": {},
   "outputs": [],
   "source": [
    "df=pd.read_csv('yellow_trip_trimmed.csv')"
   ]
  },
  {
   "cell_type": "code",
   "execution_count": null,
   "id": "ecc76073",
   "metadata": {},
   "outputs": [],
   "source": [
    "df.shape"
   ]
  },
  {
   "cell_type": "code",
   "execution_count": null,
   "id": "d4e4e072",
   "metadata": {},
   "outputs": [],
   "source": [
    "df['pickup_day']=df['tpep_pickup_datetime'].dt.day"
   ]
  },
  {
   "cell_type": "code",
   "execution_count": null,
   "id": "d52ccea0",
   "metadata": {},
   "outputs": [],
   "source": [
    "day_count = df['pickup_day'].value_counts().reset_index()\n",
    "day_count.columns=['day','count']\n",
    "day_count = day_count.sort_values(by='day').reset_index(drop=True)"
   ]
  },
  {
   "cell_type": "code",
   "execution_count": null,
   "id": "dcd9089e",
   "metadata": {},
   "outputs": [],
   "source": [
    "from bokeh.plotting import figure, show\n",
    "\n",
    "# prepare some data\n",
    "x = day_count['day']\n",
    "y = day_count['count']\n",
    "\n",
    "# create a new plot with a title and axis labels\n",
    "p = figure(width=800, height=400,title=\"No of Trips by day\", x_axis_label=\"Days Of The Month\", y_axis_label=\"Count Of Trips\")\n",
    "\n",
    "# add multiple renderers\n",
    "p.line(x, y, legend_label=\"Trip\", color=\"blue\", line_width=2)\n",
    "p.square(x, y, legend_label=\"day\", size=5, line_color=\"green\")\n",
    "#formatting the x-axis ticks as normal numbers\n",
    "p.xaxis.formatter = NumeralTickFormatter(format='0,0')\n",
    "p.legend.location = \"top_left\"\n",
    "\n",
    "# show the results\n",
    "show(p)"
   ]
  },
  {
   "cell_type": "markdown",
   "id": "58ee3526",
   "metadata": {},
   "source": [
    "![Alt text](line1.png)"
   ]
  },
  {
   "cell_type": "code",
   "execution_count": null,
   "id": "ed85c756",
   "metadata": {},
   "outputs": [],
   "source": [
    "time_tab = df['tpep_pickup_datetime'].dt.hour.to_frame()\n",
    "time_tab2 = time_tab.value_counts().sort_index().to_frame()\n",
    "#time_tab = time_tab.columns=['pickup_time','count']\n",
    "time_tab2.reset_index(inplace=True)\n",
    "time_tab2.columns=['hour','count']"
   ]
  },
  {
   "cell_type": "code",
   "execution_count": null,
   "id": "31808cd1",
   "metadata": {},
   "outputs": [],
   "source": [
    "x=time_tab2['hour']\n",
    "y=time_tab2['count']\n",
    "x=x.astype(str)"
   ]
  },
  {
   "cell_type": "code",
   "execution_count": null,
   "id": "0a2dc395",
   "metadata": {},
   "outputs": [],
   "source": [
    "from bokeh.plotting import figure, show\n",
    "    \n",
    "fruits = x\n",
    "counts = y\n",
    "\n",
    "p = figure(x_range=fruits, height=300,width=750, title=\"Count Of Trips By Hour\",\n",
    "           toolbar_location=None, tools=\"\")\n",
    "\n",
    "p.vbar(x=fruits, top=counts, width=0.9)\n",
    "\n",
    "#formatting the x-axis ticks as normal numbers\n",
    "p.xaxis.formatter = NumeralTickFormatter(format='0,0')\n",
    "\n",
    "p.xgrid.grid_line_color = None\n",
    "p.y_range.start = 0\n",
    "\n",
    "show(p)\n"
   ]
  },
  {
   "cell_type": "markdown",
   "id": "7d8231ba",
   "metadata": {},
   "source": [
    "![Alt text](hist.png)"
   ]
  },
  {
   "cell_type": "code",
   "execution_count": null,
   "id": "c0945ea5",
   "metadata": {},
   "outputs": [],
   "source": [
    "df['trip_month'] = df['tpep_pickup_datetime'].dt.month_name()"
   ]
  },
  {
   "cell_type": "code",
   "execution_count": null,
   "id": "aefcc9c0",
   "metadata": {},
   "outputs": [],
   "source": [
    "from bokeh.models import ColumnDataSource, Whisker\n",
    "from bokeh.transform import factor_cmap\n",
    "\n",
    "df3 = df['fare_amount'].to_frame()\n",
    "df3['kind']='fare_amount'\n",
    "\n",
    "qs = df3.groupby(\"kind\").fare_amount.quantile([0.25, 0.5, 0.75])\n",
    "qs = qs.unstack().reset_index()\n",
    "df3 = pd.merge(df3, qs, on=\"kind\", how=\"left\")\n",
    "df3.columns=['fare_amount','kind','q1','q2','q3'] \n",
    "kinds = df3.kind.unique()\n",
    "# compute IQR outlier bounds\n",
    "iqr = df3.q3 - df3.q1\n",
    "df3[\"upper\"] = df3.q3 + 1.5*iqr\n",
    "df3[\"lower\"] = df3.q1 - 1.5*iqr\n",
    "\n",
    "source = ColumnDataSource(df3)\n",
    "\n",
    "p = figure(x_range=kinds, tools=\"\", toolbar_location=None,\n",
    "           title=\"Fare distribution\",\n",
    "           background_fill_color=\"#eaefef\", y_axis_label=\"Fare Amount\")\n",
    "\n",
    "# outlier range\n",
    "whisker = Whisker(base=\"kind\", upper=\"upper\", lower=\"lower\", source=source)\n",
    "whisker.upper_head.size = whisker.lower_head.size = 20\n",
    "p.add_layout(whisker)\n",
    "\n",
    "# quantile boxes\n",
    "p.vbar(\"kind\", 0.1, \"q2\", \"q3\", source=source, color='blue', line_color=\"black\")\n",
    "p.vbar(\"kind\", 0.1, \"q1\", \"q2\", source=source, color='black', line_color=\"black\")\n",
    "\n",
    "# outliers\n",
    "outliers = df3[~df3.fare_amount.between(df3.lower, df3.upper)]\n",
    "p.scatter(\"kind\", \"fare_amount\", source=outliers, size=6, color=\"red\", alpha=0.3)\n",
    "#formatting the x-axis ticks as normal numbers\n",
    "p.yaxis.formatter = NumeralTickFormatter(format='0,0')\n",
    "\n",
    "p.xgrid.grid_line_color = None\n",
    "p.axis.major_label_text_font_size=\"14px\"\n",
    "p.axis.axis_label_text_font_size=\"12px\"\n",
    "\n",
    "show(p)"
   ]
  },
  {
   "cell_type": "markdown",
   "id": "95e07b32",
   "metadata": {},
   "source": [
    "![Alt text](boxplot.png)"
   ]
  },
  {
   "cell_type": "code",
   "execution_count": null,
   "id": "4b020619",
   "metadata": {},
   "outputs": [],
   "source": [
    "df['duration'] = df['tpep_dropoff_datetime'] - df['tpep_pickup_datetime']\n",
    "df['duration'] = df['duration'].apply(lambda x: x.total_seconds())"
   ]
  },
  {
   "cell_type": "code",
   "execution_count": null,
   "id": "6e2e6e8f",
   "metadata": {},
   "outputs": [],
   "source": [
    "Vendor_count = df.VendorID.value_counts().to_frame().reset_index()\n",
    "Vendor_count.columns = ['vendors','counts']\n",
    "Vendor_count.vendors = Vendor_count.vendors.astype(str)"
   ]
  },
  {
   "cell_type": "code",
   "execution_count": null,
   "id": "db937c0c",
   "metadata": {},
   "outputs": [],
   "source": [
    "df['pickup_hour']=df.tpep_pickup_datetime.dt.hour"
   ]
  },
  {
   "cell_type": "code",
   "execution_count": null,
   "id": "a4c7a1a7",
   "metadata": {},
   "outputs": [],
   "source": [
    "def period(hour):\n",
    "    if 0 < hour < 7:\n",
    "        return \"wee hours\"\n",
    "    elif 6 < hour < 12:\n",
    "        return \"morning\"\n",
    "    elif 11 < hour < 16:\n",
    "        return \"afternoon\"\n",
    "    elif 15 < hour < 20:\n",
    "        return \"evening\"\n",
    "    else:\n",
    "        return \"night\"\n",
    "    "
   ]
  },
  {
   "cell_type": "code",
   "execution_count": null,
   "id": "a696e385",
   "metadata": {},
   "outputs": [],
   "source": [
    "df['pickup_time_period'] = df['pickup_hour'].apply(period)"
   ]
  },
  {
   "cell_type": "code",
   "execution_count": null,
   "id": "c999505a",
   "metadata": {},
   "outputs": [],
   "source": [
    "time_period_count = df['pickup_time_period'].value_counts().to_frame().reset_index()\n",
    "time_period_count.columns = ['time_period','counts']\n",
    "time_period_count"
   ]
  },
  {
   "cell_type": "code",
   "execution_count": null,
   "id": "de69409d",
   "metadata": {},
   "outputs": [],
   "source": [
    "from math import pi\n",
    "import numpy as np\n",
    "import pandas as pd\n",
    "from bokeh.palettes import Category20c\n",
    "from bokeh.plotting import figure, show\n",
    "from bokeh.models import ColumnDataSource, LabelSet, Legend, Plot\n",
    "from bokeh.transform import cumsum\n",
    "\n",
    "time_period_count['angle'] = time_period_count['counts'] / time_period_count['counts'].sum() * 2 * pi\n",
    "time_period_count['color'] = [\"seagreen\",\"tomato\",\"orchid\",\"firebrick\",\"skyblue\"]\n",
    "time_period_count['percentage'] = time_period_count['counts'] / time_period_count['counts'].sum() * 100\n",
    "time_period_count['percentage'] = time_period_count['percentage'].apply(lambda x: str(round(x, 2)) + '%')\n",
    "radius = 0.45\n",
    "\n",
    "# Projection on X and Y axis for label positioning\n",
    "#time_period_count['label_x_pos'] = np.cos(time_period_count['angle'].cumsum()-time_period_count['angle'].div(2))*3*radius/5\n",
    "#time_period_count['label_y_pos'] = np.sin(time_period_count['angle'].cumsum()-time_period_count['angle'].div(2))*3*radius/5\n",
    "\n",
    "TOOLTIPS = [('Category', '@time_period'), ('Value', '@counts'), ('Percentage', '@percentage')]\n",
    "\n",
    "fig = figure(\n",
    "             width=500 ,\n",
    "             height=550 ,\n",
    "             tools='hover', tooltips=TOOLTIPS, x_range=(-0.5, 1.0))\n",
    "source = ColumnDataSource(time_period_count)\n",
    "\n",
    "fig.wedge(x=0, y=1, radius=0.45, start_angle=cumsum('angle', include_zero=True),\n",
    "          end_angle=cumsum('angle'), line_color='white', fill_color='color',\n",
    "          legend_field='time_period', source=source)\n",
    "\n",
    "fig.title.text_font_size = '12pt'\n",
    "\n",
    "\n",
    "\n",
    "labels = LabelSet(x=0, y=1, text='percentage', level='glyph', angle=cumsum('angle', include_zero=True),\n",
    "                  source=source)\n",
    "fig.title.text = \"Percentage Of Trips By Period Of Day\"\n",
    "fig.add_layout(labels)\n",
    "\n",
    "fig.axis.axis_label = None\n",
    "fig.axis.visible = False\n",
    "fig.grid.grid_line_color = None\n",
    "\n",
    "show(fig)"
   ]
  },
  {
   "cell_type": "markdown",
   "id": "a0e1e6e7",
   "metadata": {},
   "source": [
    "![Alt text](pie.png)"
   ]
  },
  {
   "cell_type": "code",
   "execution_count": null,
   "id": "6619c8ba",
   "metadata": {},
   "outputs": [],
   "source": [
    "df['day']=df['tpep_pickup_datetime'].dt.day_name()"
   ]
  },
  {
   "cell_type": "code",
   "execution_count": null,
   "id": "728bca45",
   "metadata": {},
   "outputs": [],
   "source": [
    "import pandas as pd\n",
    "\n",
    "from bokeh.models import ColumnDataSource, Whisker\n",
    "from bokeh.plotting import figure, show\n",
    "from bokeh.sampledata.autompg2 import autompg2\n",
    "from bokeh.transform import factor_cmap\n",
    "\n",
    "time_tab3 = df[['day','pickup_hour']]\n",
    "\n",
    "\n",
    "kinds = time_tab3.day.unique()\n",
    "\n",
    "# compute quantiles\n",
    "qs = time_tab3.groupby(\"day\").pickup_hour.quantile([0.25, 0.5, 0.75])\n",
    "qs = qs.unstack().reset_index()\n",
    "qs.columns = [\"day\", \"q1\", \"q2\", \"q3\"]\n",
    "time_tab3 = pd.merge(time_tab3, qs, on=\"day\", how=\"left\")\n",
    "\n",
    "# compute IQR outlier bounds\n",
    "iqr = time_tab3.q3 - time_tab3.q1\n",
    "time_tab3[\"upper\"] = time_tab3.q3 + 1.5*iqr\n",
    "time_tab3[\"lower\"] = time_tab3.q1 - 1.5*iqr\n",
    "\n",
    "source = ColumnDataSource(time_tab3)\n",
    "\n",
    "p = figure(x_range=kinds, tools=\"\", toolbar_location=None,\n",
    "           title=\"pickup time distribution by days of the week\",\n",
    "           background_fill_color=\"#eaefef\",width=850, y_axis_label=\"time of day\")\n",
    "\n",
    "# outlier range\n",
    "whisker = Whisker(base=\"day\", upper=\"upper\", lower=\"lower\", source=source)\n",
    "whisker.upper_head.size = whisker.lower_head.size = 20\n",
    "p.add_layout(whisker)\n",
    "\n",
    "# quantile boxes\n",
    "cmap = factor_cmap(\"day\", \"TolRainbow7\", kinds)\n",
    "p.vbar(\"day\", 0.7, \"q2\", \"q3\", source=source, color=cmap, line_color=\"black\")\n",
    "p.vbar(\"day\", 0.7, \"q1\", \"q2\", source=source, color=cmap, line_color=\"black\")\n",
    "\n",
    "# outliers\n",
    "outliers = time_tab3[~time_tab3.pickup_hour.between(time_tab3.lower, time_tab3.upper)]\n",
    "p.scatter(\"day\", \"pickup_hour\", source=outliers, size=6, color=\"black\", alpha=0.3)\n",
    "\n",
    "p.xgrid.grid_line_color = None\n",
    "p.axis.major_label_text_font_size=\"14px\"\n",
    "p.axis.axis_label_text_font_size=\"12px\"\n",
    "\n",
    "show(p)"
   ]
  },
  {
   "cell_type": "markdown",
   "id": "4ff4e440",
   "metadata": {},
   "source": [
    "![Alt text](box_p.png)"
   ]
  },
  {
   "cell_type": "code",
   "execution_count": null,
   "id": "e05cc057",
   "metadata": {},
   "outputs": [],
   "source": [
    "time_tab3.rename(columns={\"class\": \"kind\"})"
   ]
  },
  {
   "cell_type": "code",
   "execution_count": null,
   "id": "0a5d9422",
   "metadata": {},
   "outputs": [],
   "source": [
    "def drop_outlier(data,var):\n",
    "    q1, q3 = np.percentile(data[var], [25, 75])\n",
    "    iqr = q3 - q1\n",
    "    lower = q1 - 1.5*iqr\n",
    "    upper = q3 + 1.5*iqr\n",
    "    data = data[data[var]< upper]\n",
    "    data = data[data[var]> lower]\n",
    "    data.reset_index(drop=True, inplace = True)\n",
    "    return data\n"
   ]
  },
  {
   "cell_type": "code",
   "execution_count": null,
   "id": "fdf1fe45",
   "metadata": {},
   "outputs": [],
   "source": [
    "df = drop_outlier(df,'duration')"
   ]
  },
  {
   "cell_type": "code",
   "execution_count": null,
   "id": "2ccf1f3b",
   "metadata": {},
   "outputs": [],
   "source": [
    "from bokeh.plotting import figure, show\n",
    "from bokeh.io import output_notebook\n",
    "from bokeh.models import ColumnDataSource, HoverTool\n",
    "import pandas as pd\n",
    "\n",
    "# Create a sample dataset\n",
    "data = {'Duration': [30, 45, 60, 120, 90, 75, 30, 45, 60, 90, 120, 60, 75]}\n",
    "\n",
    "# Convert the data to a Pandas DataFrame\n",
    "df1 = pd.DataFrame(data)\n",
    "\n",
    "# Create a histogram plot using Bokeh\n",
    "output_notebook()\n",
    "source = ColumnDataSource(df)\n",
    "hist = figure(title='Trip Duration Histogram', \n",
    "              x_axis_label='Duration (minutes)', \n",
    "              y_axis_label='Count', \n",
    "              tools='hover, box_select')\n",
    "hist.quad(top='top', bottom=0, \n",
    "          source=source, fill_color='navy', line_color='white')\n",
    "hist.add_tools(HoverTool(tooltips=[('Duration', '@left - @right mins'), ('Count', '@top')]))\n",
    "\n",
    "# Show the plot\n",
    "show(hist)\n"
   ]
  },
  {
   "cell_type": "code",
   "execution_count": null,
   "id": "42c636ac",
   "metadata": {},
   "outputs": [],
   "source": []
  }
 ],
 "metadata": {
  "kernelspec": {
   "display_name": "Python 3 (ipykernel)",
   "language": "python",
   "name": "python3"
  },
  "language_info": {
   "codemirror_mode": {
    "name": "ipython",
    "version": 3
   },
   "file_extension": ".py",
   "mimetype": "text/x-python",
   "name": "python",
   "nbconvert_exporter": "python",
   "pygments_lexer": "ipython3",
   "version": "3.10.9"
  }
 },
 "nbformat": 4,
 "nbformat_minor": 5
}
