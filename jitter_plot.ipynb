{
 "cells": [
  {
   "cell_type": "code",
   "execution_count": 24,
   "metadata": {},
   "outputs": [],
   "source": [
    "from bokeh.layouts import column\n",
    "from bokeh.plotting import figure, show\n",
    "from bokeh.sampledata.autompg import autompg\n",
    "from bokeh.transform import jitter,factor_cmap\n",
    "from bokeh.io import curdoc\n",
    "\n",
    "curdoc().theme = 'dark_minimal'\n",
    "years = sorted(autompg.yr.unique())\n",
    "\n",
    "p1 = figure(width=600, height=300, title=\"Years vs mpg without jittering\")\n",
    "p1.xgrid.grid_line_color = None\n",
    "p1.xaxis.ticker = years\n",
    "\n",
    "p1.scatter(x='yr', y='mpg', size=9, alpha=0.4,fill_color=\"green\", source=autompg)\n",
    "\n",
    "p2 = figure(width=600, height=300, title=\"Years vs mpg with jittering\")\n",
    "p2.xgrid.grid_line_color = None\n",
    "p2.xaxis.ticker = years\n",
    "\n",
    "p2.scatter(x=jitter('yr', 0.4), y='mpg', size=9, alpha=0.4,fill_color=\"red\", source=autompg)\n",
    "\n",
    "show(column(p1, p2))"
   ]
  }
 ],
 "metadata": {
  "kernelspec": {
   "display_name": "Python 3",
   "language": "python",
   "name": "python3"
  },
  "language_info": {
   "codemirror_mode": {
    "name": "ipython",
    "version": 3
   },
   "file_extension": ".py",
   "mimetype": "text/x-python",
   "name": "python",
   "nbconvert_exporter": "python",
   "pygments_lexer": "ipython3",
   "version": "3.10.4"
  },
  "orig_nbformat": 4
 },
 "nbformat": 4,
 "nbformat_minor": 2
}
