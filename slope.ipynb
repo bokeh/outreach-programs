{
 "cells": [
  {
   "cell_type": "code",
   "execution_count": null,
   "metadata": {},
   "outputs": [],
   "source": [
    "import numpy as np\n",
    "from bokeh.palettes import Turbo256\n",
    "from bokeh.models import Slope\n",
    "from bokeh.plotting import figure, show\n",
    "from bokeh.transform import linear_cmap\n",
    "\n",
    "# linear equation parameters\n",
    "slope, intercept = 2, 10\n",
    "\n",
    "x = list(range(0, 8))\n",
    "y = [i**2 for i in x]\n",
    "# create linear color mapper\n",
    "mapper = linear_cmap(field_name=\"y\", palette=Turbo256, low=min(y), high=max(y))\n",
    "\n",
    "xpts = np.arange(0, 20, 0.2)\n",
    "ypts = slope * xpts + intercept + np.random.normal(0, 4, 100)\n",
    "\n",
    "p = figure(width=450, height=450, x_axis_label='x', y_axis_label='y',\n",
    "           background_fill_color=\"#fafafa\")\n",
    "p.y_range.start = 0\n",
    "\n",
    "p.circle(xpts, ypts, size=6, alpha=0.6 ,fill_color=mapper)\n",
    "\n",
    "slope = Slope(gradient=slope, y_intercept=intercept,\n",
    "              line_color=\"deeppink\", line_dash='dashed', line_width=4)\n",
    "\n",
    "p.add_layout(slope)\n",
    "\n",
    "show(p)"
   ]
  }
 ],
 "metadata": {
  "language_info": {
   "name": "python"
  },
  "orig_nbformat": 4
 },
 "nbformat": 4,
 "nbformat_minor": 2
}
