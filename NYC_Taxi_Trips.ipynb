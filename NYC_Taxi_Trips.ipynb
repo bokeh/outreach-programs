{
 "cells": [
  {
   "cell_type": "code",
   "execution_count": 1,
   "metadata": {},
   "outputs": [
    {
     "name": "stderr",
     "output_type": "stream",
     "text": [
      "C:\\Users\\Megha\\anaconda3\\lib\\site-packages\\pandas\\core\\computation\\expressions.py:20: UserWarning: Pandas requires version '2.7.3' or newer of 'numexpr' (version '2.7.1' currently installed).\n",
      "  from pandas.core.computation.check import NUMEXPR_INSTALLED\n"
     ]
    }
   ],
   "source": [
    "import numpy as np\n",
    "import pandas as pd\n",
    "import bokeh"
   ]
  },
  {
   "cell_type": "code",
   "execution_count": 2,
   "metadata": {},
   "outputs": [],
   "source": [
    "#Yello Taxi Trip record - Nov 2022\n",
    "df1=pd.read_parquet(\"yellow_tripdata_2022-11.parquet\")"
   ]
  },
  {
   "cell_type": "code",
   "execution_count": 3,
   "metadata": {},
   "outputs": [
    {
     "data": {
      "text/html": [
       "<div>\n",
       "<style scoped>\n",
       "    .dataframe tbody tr th:only-of-type {\n",
       "        vertical-align: middle;\n",
       "    }\n",
       "\n",
       "    .dataframe tbody tr th {\n",
       "        vertical-align: top;\n",
       "    }\n",
       "\n",
       "    .dataframe thead th {\n",
       "        text-align: right;\n",
       "    }\n",
       "</style>\n",
       "<table border=\"1\" class=\"dataframe\">\n",
       "  <thead>\n",
       "    <tr style=\"text-align: right;\">\n",
       "      <th></th>\n",
       "      <th>VendorID</th>\n",
       "      <th>tpep_pickup_datetime</th>\n",
       "      <th>tpep_dropoff_datetime</th>\n",
       "      <th>passenger_count</th>\n",
       "      <th>trip_distance</th>\n",
       "      <th>RatecodeID</th>\n",
       "      <th>store_and_fwd_flag</th>\n",
       "      <th>PULocationID</th>\n",
       "      <th>DOLocationID</th>\n",
       "      <th>payment_type</th>\n",
       "      <th>fare_amount</th>\n",
       "      <th>extra</th>\n",
       "      <th>mta_tax</th>\n",
       "      <th>tip_amount</th>\n",
       "      <th>tolls_amount</th>\n",
       "      <th>improvement_surcharge</th>\n",
       "      <th>total_amount</th>\n",
       "      <th>congestion_surcharge</th>\n",
       "      <th>airport_fee</th>\n",
       "    </tr>\n",
       "  </thead>\n",
       "  <tbody>\n",
       "    <tr>\n",
       "      <th>0</th>\n",
       "      <td>1</td>\n",
       "      <td>2022-11-01 00:51:22</td>\n",
       "      <td>2022-11-01 00:56:24</td>\n",
       "      <td>1.0</td>\n",
       "      <td>0.60</td>\n",
       "      <td>1.0</td>\n",
       "      <td>N</td>\n",
       "      <td>151</td>\n",
       "      <td>151</td>\n",
       "      <td>2</td>\n",
       "      <td>4.5</td>\n",
       "      <td>0.5</td>\n",
       "      <td>0.5</td>\n",
       "      <td>0.00</td>\n",
       "      <td>0.00</td>\n",
       "      <td>0.3</td>\n",
       "      <td>5.80</td>\n",
       "      <td>0.0</td>\n",
       "      <td>0.00</td>\n",
       "    </tr>\n",
       "    <tr>\n",
       "      <th>1</th>\n",
       "      <td>1</td>\n",
       "      <td>2022-11-01 00:39:43</td>\n",
       "      <td>2022-11-01 00:48:44</td>\n",
       "      <td>0.0</td>\n",
       "      <td>1.80</td>\n",
       "      <td>1.0</td>\n",
       "      <td>N</td>\n",
       "      <td>90</td>\n",
       "      <td>79</td>\n",
       "      <td>1</td>\n",
       "      <td>8.5</td>\n",
       "      <td>3.0</td>\n",
       "      <td>0.5</td>\n",
       "      <td>3.05</td>\n",
       "      <td>0.00</td>\n",
       "      <td>0.3</td>\n",
       "      <td>15.35</td>\n",
       "      <td>2.5</td>\n",
       "      <td>0.00</td>\n",
       "    </tr>\n",
       "    <tr>\n",
       "      <th>2</th>\n",
       "      <td>1</td>\n",
       "      <td>2022-11-01 00:55:01</td>\n",
       "      <td>2022-11-01 01:01:35</td>\n",
       "      <td>0.0</td>\n",
       "      <td>2.00</td>\n",
       "      <td>1.0</td>\n",
       "      <td>N</td>\n",
       "      <td>137</td>\n",
       "      <td>141</td>\n",
       "      <td>1</td>\n",
       "      <td>8.0</td>\n",
       "      <td>3.0</td>\n",
       "      <td>0.5</td>\n",
       "      <td>2.36</td>\n",
       "      <td>0.00</td>\n",
       "      <td>0.3</td>\n",
       "      <td>14.16</td>\n",
       "      <td>2.5</td>\n",
       "      <td>0.00</td>\n",
       "    </tr>\n",
       "    <tr>\n",
       "      <th>3</th>\n",
       "      <td>1</td>\n",
       "      <td>2022-11-01 00:24:49</td>\n",
       "      <td>2022-11-01 00:31:04</td>\n",
       "      <td>2.0</td>\n",
       "      <td>1.00</td>\n",
       "      <td>1.0</td>\n",
       "      <td>N</td>\n",
       "      <td>158</td>\n",
       "      <td>113</td>\n",
       "      <td>1</td>\n",
       "      <td>6.0</td>\n",
       "      <td>3.0</td>\n",
       "      <td>0.5</td>\n",
       "      <td>0.00</td>\n",
       "      <td>0.00</td>\n",
       "      <td>0.3</td>\n",
       "      <td>9.80</td>\n",
       "      <td>2.5</td>\n",
       "      <td>0.00</td>\n",
       "    </tr>\n",
       "    <tr>\n",
       "      <th>4</th>\n",
       "      <td>1</td>\n",
       "      <td>2022-11-01 00:37:32</td>\n",
       "      <td>2022-11-01 00:42:23</td>\n",
       "      <td>2.0</td>\n",
       "      <td>0.80</td>\n",
       "      <td>1.0</td>\n",
       "      <td>N</td>\n",
       "      <td>249</td>\n",
       "      <td>158</td>\n",
       "      <td>2</td>\n",
       "      <td>5.5</td>\n",
       "      <td>3.0</td>\n",
       "      <td>0.5</td>\n",
       "      <td>0.00</td>\n",
       "      <td>0.00</td>\n",
       "      <td>0.3</td>\n",
       "      <td>9.30</td>\n",
       "      <td>2.5</td>\n",
       "      <td>0.00</td>\n",
       "    </tr>\n",
       "    <tr>\n",
       "      <th>5</th>\n",
       "      <td>1</td>\n",
       "      <td>2022-11-01 00:48:53</td>\n",
       "      <td>2022-11-01 01:02:00</td>\n",
       "      <td>2.0</td>\n",
       "      <td>2.50</td>\n",
       "      <td>1.0</td>\n",
       "      <td>N</td>\n",
       "      <td>158</td>\n",
       "      <td>230</td>\n",
       "      <td>1</td>\n",
       "      <td>11.0</td>\n",
       "      <td>3.0</td>\n",
       "      <td>0.5</td>\n",
       "      <td>2.95</td>\n",
       "      <td>0.00</td>\n",
       "      <td>0.3</td>\n",
       "      <td>17.75</td>\n",
       "      <td>2.5</td>\n",
       "      <td>0.00</td>\n",
       "    </tr>\n",
       "    <tr>\n",
       "      <th>6</th>\n",
       "      <td>2</td>\n",
       "      <td>2022-11-01 00:13:50</td>\n",
       "      <td>2022-11-01 00:23:06</td>\n",
       "      <td>1.0</td>\n",
       "      <td>2.04</td>\n",
       "      <td>1.0</td>\n",
       "      <td>N</td>\n",
       "      <td>161</td>\n",
       "      <td>137</td>\n",
       "      <td>2</td>\n",
       "      <td>9.0</td>\n",
       "      <td>0.5</td>\n",
       "      <td>0.5</td>\n",
       "      <td>0.00</td>\n",
       "      <td>0.00</td>\n",
       "      <td>0.3</td>\n",
       "      <td>12.80</td>\n",
       "      <td>2.5</td>\n",
       "      <td>0.00</td>\n",
       "    </tr>\n",
       "    <tr>\n",
       "      <th>7</th>\n",
       "      <td>2</td>\n",
       "      <td>2022-11-01 00:07:31</td>\n",
       "      <td>2022-11-01 00:21:54</td>\n",
       "      <td>1.0</td>\n",
       "      <td>6.63</td>\n",
       "      <td>1.0</td>\n",
       "      <td>N</td>\n",
       "      <td>138</td>\n",
       "      <td>74</td>\n",
       "      <td>1</td>\n",
       "      <td>20.0</td>\n",
       "      <td>0.5</td>\n",
       "      <td>0.5</td>\n",
       "      <td>5.57</td>\n",
       "      <td>6.55</td>\n",
       "      <td>0.3</td>\n",
       "      <td>34.67</td>\n",
       "      <td>0.0</td>\n",
       "      <td>1.25</td>\n",
       "    </tr>\n",
       "    <tr>\n",
       "      <th>8</th>\n",
       "      <td>2</td>\n",
       "      <td>2022-11-01 00:47:57</td>\n",
       "      <td>2022-11-01 00:50:57</td>\n",
       "      <td>2.0</td>\n",
       "      <td>0.53</td>\n",
       "      <td>1.0</td>\n",
       "      <td>N</td>\n",
       "      <td>48</td>\n",
       "      <td>161</td>\n",
       "      <td>2</td>\n",
       "      <td>4.0</td>\n",
       "      <td>0.5</td>\n",
       "      <td>0.5</td>\n",
       "      <td>0.00</td>\n",
       "      <td>0.00</td>\n",
       "      <td>0.3</td>\n",
       "      <td>7.80</td>\n",
       "      <td>2.5</td>\n",
       "      <td>0.00</td>\n",
       "    </tr>\n",
       "    <tr>\n",
       "      <th>9</th>\n",
       "      <td>2</td>\n",
       "      <td>2022-11-01 00:37:05</td>\n",
       "      <td>2022-11-01 00:43:18</td>\n",
       "      <td>1.0</td>\n",
       "      <td>1.06</td>\n",
       "      <td>1.0</td>\n",
       "      <td>N</td>\n",
       "      <td>68</td>\n",
       "      <td>170</td>\n",
       "      <td>2</td>\n",
       "      <td>6.0</td>\n",
       "      <td>0.5</td>\n",
       "      <td>0.5</td>\n",
       "      <td>0.00</td>\n",
       "      <td>0.00</td>\n",
       "      <td>0.3</td>\n",
       "      <td>9.80</td>\n",
       "      <td>2.5</td>\n",
       "      <td>0.00</td>\n",
       "    </tr>\n",
       "  </tbody>\n",
       "</table>\n",
       "</div>"
      ],
      "text/plain": [
       "   VendorID tpep_pickup_datetime tpep_dropoff_datetime  passenger_count  \\\n",
       "0         1  2022-11-01 00:51:22   2022-11-01 00:56:24              1.0   \n",
       "1         1  2022-11-01 00:39:43   2022-11-01 00:48:44              0.0   \n",
       "2         1  2022-11-01 00:55:01   2022-11-01 01:01:35              0.0   \n",
       "3         1  2022-11-01 00:24:49   2022-11-01 00:31:04              2.0   \n",
       "4         1  2022-11-01 00:37:32   2022-11-01 00:42:23              2.0   \n",
       "5         1  2022-11-01 00:48:53   2022-11-01 01:02:00              2.0   \n",
       "6         2  2022-11-01 00:13:50   2022-11-01 00:23:06              1.0   \n",
       "7         2  2022-11-01 00:07:31   2022-11-01 00:21:54              1.0   \n",
       "8         2  2022-11-01 00:47:57   2022-11-01 00:50:57              2.0   \n",
       "9         2  2022-11-01 00:37:05   2022-11-01 00:43:18              1.0   \n",
       "\n",
       "   trip_distance  RatecodeID store_and_fwd_flag  PULocationID  DOLocationID  \\\n",
       "0           0.60         1.0                  N           151           151   \n",
       "1           1.80         1.0                  N            90            79   \n",
       "2           2.00         1.0                  N           137           141   \n",
       "3           1.00         1.0                  N           158           113   \n",
       "4           0.80         1.0                  N           249           158   \n",
       "5           2.50         1.0                  N           158           230   \n",
       "6           2.04         1.0                  N           161           137   \n",
       "7           6.63         1.0                  N           138            74   \n",
       "8           0.53         1.0                  N            48           161   \n",
       "9           1.06         1.0                  N            68           170   \n",
       "\n",
       "   payment_type  fare_amount  extra  mta_tax  tip_amount  tolls_amount  \\\n",
       "0             2          4.5    0.5      0.5        0.00          0.00   \n",
       "1             1          8.5    3.0      0.5        3.05          0.00   \n",
       "2             1          8.0    3.0      0.5        2.36          0.00   \n",
       "3             1          6.0    3.0      0.5        0.00          0.00   \n",
       "4             2          5.5    3.0      0.5        0.00          0.00   \n",
       "5             1         11.0    3.0      0.5        2.95          0.00   \n",
       "6             2          9.0    0.5      0.5        0.00          0.00   \n",
       "7             1         20.0    0.5      0.5        5.57          6.55   \n",
       "8             2          4.0    0.5      0.5        0.00          0.00   \n",
       "9             2          6.0    0.5      0.5        0.00          0.00   \n",
       "\n",
       "   improvement_surcharge  total_amount  congestion_surcharge  airport_fee  \n",
       "0                    0.3          5.80                   0.0         0.00  \n",
       "1                    0.3         15.35                   2.5         0.00  \n",
       "2                    0.3         14.16                   2.5         0.00  \n",
       "3                    0.3          9.80                   2.5         0.00  \n",
       "4                    0.3          9.30                   2.5         0.00  \n",
       "5                    0.3         17.75                   2.5         0.00  \n",
       "6                    0.3         12.80                   2.5         0.00  \n",
       "7                    0.3         34.67                   0.0         1.25  \n",
       "8                    0.3          7.80                   2.5         0.00  \n",
       "9                    0.3          9.80                   2.5         0.00  "
      ]
     },
     "execution_count": 3,
     "metadata": {},
     "output_type": "execute_result"
    }
   ],
   "source": [
    "df1.head(10)"
   ]
  },
  {
   "cell_type": "code",
   "execution_count": 4,
   "metadata": {
    "collapsed": true,
    "jupyter": {
     "outputs_hidden": true
    }
   },
   "outputs": [
    {
     "data": {
      "text/plain": [
       "VendorID                      0\n",
       "tpep_pickup_datetime          0\n",
       "tpep_dropoff_datetime         0\n",
       "passenger_count          121958\n",
       "trip_distance                 0\n",
       "RatecodeID               121958\n",
       "store_and_fwd_flag       121958\n",
       "PULocationID                  0\n",
       "DOLocationID                  0\n",
       "payment_type                  0\n",
       "fare_amount                   0\n",
       "extra                         0\n",
       "mta_tax                       0\n",
       "tip_amount                    0\n",
       "tolls_amount                  0\n",
       "improvement_surcharge         0\n",
       "total_amount                  0\n",
       "congestion_surcharge     121958\n",
       "airport_fee              121958\n",
       "dtype: int64"
      ]
     },
     "execution_count": 4,
     "metadata": {},
     "output_type": "execute_result"
    }
   ],
   "source": [
    "#checking for null value columns\n",
    "df1.isna().sum()"
   ]
  },
  {
   "cell_type": "code",
   "execution_count": 5,
   "metadata": {},
   "outputs": [],
   "source": [
    "#dropping null value columns\n",
    "df1.dropna(inplace=True)"
   ]
  },
  {
   "cell_type": "code",
   "execution_count": 6,
   "metadata": {
    "collapsed": true,
    "jupyter": {
     "outputs_hidden": true
    }
   },
   "outputs": [
    {
     "name": "stdout",
     "output_type": "stream",
     "text": [
      "<class 'pandas.core.frame.DataFrame'>\n",
      "Int64Index: 3130759 entries, 0 to 3130758\n",
      "Data columns (total 19 columns):\n",
      " #   Column                 Dtype         \n",
      "---  ------                 -----         \n",
      " 0   VendorID               int64         \n",
      " 1   tpep_pickup_datetime   datetime64[ns]\n",
      " 2   tpep_dropoff_datetime  datetime64[ns]\n",
      " 3   passenger_count        float64       \n",
      " 4   trip_distance          float64       \n",
      " 5   RatecodeID             float64       \n",
      " 6   store_and_fwd_flag     object        \n",
      " 7   PULocationID           int64         \n",
      " 8   DOLocationID           int64         \n",
      " 9   payment_type           int64         \n",
      " 10  fare_amount            float64       \n",
      " 11  extra                  float64       \n",
      " 12  mta_tax                float64       \n",
      " 13  tip_amount             float64       \n",
      " 14  tolls_amount           float64       \n",
      " 15  improvement_surcharge  float64       \n",
      " 16  total_amount           float64       \n",
      " 17  congestion_surcharge   float64       \n",
      " 18  airport_fee            float64       \n",
      "dtypes: datetime64[ns](2), float64(12), int64(4), object(1)\n",
      "memory usage: 477.7+ MB\n"
     ]
    }
   ],
   "source": [
    "#checking for columns & datatype\n",
    "df1.info()"
   ]
  },
  {
   "cell_type": "markdown",
   "metadata": {},
   "source": [
    "## linear_cmap_colorbar"
   ]
  },
  {
   "cell_type": "code",
   "execution_count": 83,
   "metadata": {},
   "outputs": [],
   "source": [
    "from bokeh.models import ColorBar, ColumnDataSource\n",
    "from bokeh.plotting import figure, show\n",
    "from bokeh.transform import linear_cmap"
   ]
  },
  {
   "cell_type": "code",
   "execution_count": 85,
   "metadata": {},
   "outputs": [],
   "source": [
    "x = df1[\"PULocationID\"].head(2000)\n",
    "x = x.values\n",
    "y = df1[\"trip_distance\"].head(2000)\n",
    "y = y.values"
   ]
  },
  {
   "cell_type": "code",
   "execution_count": 106,
   "metadata": {},
   "outputs": [],
   "source": [
    "source = ColumnDataSource(dict(x=x,y=y))\n",
    "\n",
    "#creating figure\n",
    "p = figure(width=800, height=800, x_axis_label='Passenger Location ID', y_axis_label='Trip Distance Measure', title=\"Linear color map based on NYC Yellow Taxi Data\")\n",
    "\n",
    "# use the field name of the column source\n",
    "cmap = linear_cmap(field_name='y', palette=\"Spectral8\", low=min(y), high=max(y))\n",
    "\n",
    "p.scatter(x='x', y='y', color=cmap, size=15, source=source)\n",
    "\n",
    "# pass the mapper's transform to the colorbar\n",
    "color_bar = ColorBar(color_mapper=cmap['transform'], width=10)\n",
    "\n",
    "p.add_layout(color_bar, 'right')\n",
    "\n",
    "show(p)"
   ]
  },
  {
   "cell_type": "markdown",
   "metadata": {},
   "source": [
    "## Output - https://drive.google.com/file/d/1lY0v4PLLNBbtT73_6DsWRZOkSJ_X3tXs/view?usp=share_link"
   ]
  },
  {
   "cell_type": "markdown",
   "metadata": {},
   "source": [
    "## colormapped"
   ]
  },
  {
   "cell_type": "code",
   "execution_count": 8,
   "metadata": {},
   "outputs": [
    {
     "data": {
      "text/plain": [
       "array([1442,  356,   96,   39,   27,   23,   17], dtype=int64)"
      ]
     },
     "execution_count": 8,
     "metadata": {},
     "output_type": "execute_result"
    }
   ],
   "source": [
    "countings = df1[\"passenger_count\"].head(2000).value_counts()\n",
    "countings = countings.values\n",
    "countings"
   ]
  },
  {
   "cell_type": "code",
   "execution_count": 9,
   "metadata": {},
   "outputs": [
    {
     "data": {
      "text/plain": [
       "['1.0', '0.0', '2.0', '3.0', '4.0', '5.0', '6.0', '8.0', '7.0', '9.0']"
      ]
     },
     "execution_count": 9,
     "metadata": {},
     "output_type": "execute_result"
    }
   ],
   "source": [
    "passengers = df1[\"passenger_count\"].unique()\n",
    "passengers = [str(x) for x in passengers]\n",
    "passengers"
   ]
  },
  {
   "cell_type": "code",
   "execution_count": 10,
   "metadata": {},
   "outputs": [],
   "source": [
    "passengers=['1.0', '0.0', '2.0', '3.0', '4.0', '5.0', '6.0']"
   ]
  },
  {
   "cell_type": "code",
   "execution_count": 11,
   "metadata": {},
   "outputs": [],
   "source": [
    "from bokeh.models import ColumnDataSource\n",
    "from bokeh.palettes import Bright6\n",
    "from bokeh.plotting import figure, show\n",
    "from bokeh.transform import factor_cmap"
   ]
  },
  {
   "cell_type": "code",
   "execution_count": 48,
   "metadata": {},
   "outputs": [],
   "source": [
    "pp = passengers\n",
    "cc = countings\n",
    "\n",
    "source = ColumnDataSource(data=dict(pp=passengers, cc=countings))\n",
    "\n",
    "p = figure(x_range=pp, height=800, toolbar_location=None, title=\"Color Mapped based on NYC Yellow Taxi Data\")\n",
    "\n",
    "p.vbar(x='pp', top='cc', width=0.9, source=source, legend_field=\"pp\",\n",
    "       line_color='white', fill_color=factor_cmap('pp', palette=Bright6, factors=pp))\n",
    "\n",
    "p.xgrid.grid_line_color = None\n",
    "p.y_range.start = 0\n",
    "p.y_range.end = 1600\n",
    "p.legend.orientation = \"horizontal\"\n",
    "p.legend.location = \"top_center\"\n",
    "\n",
    "show(p)"
   ]
  },
  {
   "cell_type": "markdown",
   "metadata": {},
   "source": [
    "## Output - https://drive.google.com/file/d/1eT_neb97PTolyCRTOXwy-pPWXYh97jCi/view?usp=share_link"
   ]
  },
  {
   "cell_type": "markdown",
   "metadata": {},
   "source": [
    "## color_mappers"
   ]
  },
  {
   "cell_type": "code",
   "execution_count": 28,
   "metadata": {},
   "outputs": [
    {
     "data": {
      "text/plain": [
       "array([ 4.5,  8.5,  8. , ...,  3. ,  5. , 52. ])"
      ]
     },
     "execution_count": 28,
     "metadata": {},
     "output_type": "execute_result"
    }
   ],
   "source": [
    "fare = df1[\"fare_amount\"].head(2000).values\n",
    "fare"
   ]
  },
  {
   "cell_type": "code",
   "execution_count": 29,
   "metadata": {},
   "outputs": [
    {
     "data": {
      "text/plain": [
       "array([0.  , 3.05, 2.36, ..., 0.  , 1.76, 0.  ])"
      ]
     },
     "execution_count": 29,
     "metadata": {},
     "output_type": "execute_result"
    }
   ],
   "source": [
    "tip = df1[\"tip_amount\"].head(2000).values\n",
    "tip"
   ]
  },
  {
   "cell_type": "code",
   "execution_count": 30,
   "metadata": {},
   "outputs": [],
   "source": [
    "from bokeh.layouts import column, gridplot\n",
    "from bokeh.models import ColorBar, ColumnDataSource, LinearColorMapper, LogColorMapper\n",
    "from bokeh.plotting import figure, show\n",
    "from bokeh.transform import transform"
   ]
  },
  {
   "cell_type": "code",
   "execution_count": 33,
   "metadata": {},
   "outputs": [],
   "source": [
    "x = fare\n",
    "y = tip\n",
    "source = ColumnDataSource(dict(x=x, y=y))\n",
    "\n",
    "def make_plot(mapper_type, palette):\n",
    "    cls = LogColorMapper if mapper_type == \"log\" else LinearColorMapper\n",
    "    mapper = cls(palette=palette, low=1, high=1000)\n",
    "\n",
    "    p = figure(x_range=(1, 1000), title=f\"{palette} with {mapper_type} mapping\",\n",
    "               toolbar_location=None, tools=\"\", x_axis_type=mapper_type)\n",
    "    p.scatter('x', 'y', alpha=0.8, source=source, color=transform('x', mapper))\n",
    "\n",
    "    color_bar = ColorBar(color_mapper=mapper, padding=0,\n",
    "                         ticker=p.xaxis.ticker, formatter=p.xaxis.formatter)\n",
    "    p.add_layout(color_bar, 'below')\n",
    "\n",
    "    return p\n",
    "\n",
    "p1 = make_plot(\"linear\", \"Viridis256\")\n",
    "p2 = make_plot(\"log\", \"Viridis256\")\n",
    "p3 = make_plot(\"linear\", \"Viridis6\")\n",
    "p4 = make_plot(\"log\", \"Viridis6\")\n",
    "\n",
    "p5 = figure(x_range=(1, 1000), width=800, height=300, toolbar_location=None, tools=\"\",\n",
    "            title=\"Viridis256 with linear mapping, low/high = 200/800 = pink/grey\")\n",
    "mapper = LinearColorMapper(palette=\"Viridis256\", low=200, high=800,\n",
    "                           low_color=\"pink\", high_color=\"darkgrey\")\n",
    "p5.scatter(x='x', y='y', alpha=0.8, source=source, color=transform('x', mapper))\n",
    "\n",
    "grid =  gridplot([[p1, p2], [p3, p4]], width=400, height=300, toolbar_location=None)\n",
    "show(column(grid, p5))"
   ]
  },
  {
   "cell_type": "markdown",
   "metadata": {},
   "source": [
    "## Output - https://drive.google.com/file/d/140LJckIUXerEeAsFDcI_hdAbsckwl52U/view?usp=share_link"
   ]
  },
  {
   "cell_type": "markdown",
   "metadata": {},
   "source": [
    "## slope"
   ]
  },
  {
   "cell_type": "code",
   "execution_count": 15,
   "metadata": {},
   "outputs": [
    {
     "data": {
      "text/plain": [
       "array([0.6 , 1.8 , 2.  , ..., 0.08, 0.59, 0.  ])"
      ]
     },
     "execution_count": 15,
     "metadata": {},
     "output_type": "execute_result"
    }
   ],
   "source": [
    "imp = df1[\"trip_distance\"].head(2000).values\n",
    "imp"
   ]
  },
  {
   "cell_type": "code",
   "execution_count": 17,
   "metadata": {},
   "outputs": [
    {
     "data": {
      "text/plain": [
       "array([151,  79, 141, ..., 114, 114,  79], dtype=int64)"
      ]
     },
     "execution_count": 17,
     "metadata": {},
     "output_type": "execute_result"
    }
   ],
   "source": [
    "cong = df1[\"DOLocationID\"].head(2000).values\n",
    "cong"
   ]
  },
  {
   "cell_type": "code",
   "execution_count": 10,
   "metadata": {},
   "outputs": [],
   "source": [
    "from bokeh.models import Slope\n",
    "from bokeh.plotting import figure, show"
   ]
  },
  {
   "cell_type": "code",
   "execution_count": 26,
   "metadata": {},
   "outputs": [],
   "source": [
    "# linear equation parameters\n",
    "slope, intercept = 2, 10\n",
    "\n",
    "xpts = imp\n",
    "ypts = cong\n",
    "\n",
    "p = figure(width=800, height=800, x_axis_label='x', y_axis_label='y',\n",
    "           background_fill_color=\"#fafafa\")\n",
    "p.y_range.start = 0\n",
    "\n",
    "p.circle(xpts, ypts, color='violet', size=6, alpha=0.6, fill_color=None)\n",
    "\n",
    "slope = Slope(gradient=slope, y_intercept=intercept,\n",
    "              line_color='red', line_dash='dashed', line_width=4)\n",
    "\n",
    "p.add_layout(slope)\n",
    "\n",
    "show(p)"
   ]
  },
  {
   "cell_type": "markdown",
   "metadata": {},
   "source": [
    "## Output - https://drive.google.com/file/d/1KDskFopSErX-ZNTsitqUMO1NLKTTHf_W/view?usp=share_link"
   ]
  },
  {
   "cell_type": "markdown",
   "metadata": {},
   "source": [
    "## caliber"
   ]
  },
  {
   "cell_type": "code",
   "execution_count": 36,
   "metadata": {},
   "outputs": [
    {
     "data": {
      "text/plain": [
       "array([151,  90, 137, ..., 114, 114,  79], dtype=int64)"
      ]
     },
     "execution_count": 36,
     "metadata": {},
     "output_type": "execute_result"
    }
   ],
   "source": [
    "pul = df1[\"PULocationID\"].head(2000).values\n",
    "pul"
   ]
  },
  {
   "cell_type": "code",
   "execution_count": 37,
   "metadata": {},
   "outputs": [
    {
     "data": {
      "text/plain": [
       "array([2, 1, 1, ..., 4, 1, 2], dtype=int64)"
      ]
     },
     "execution_count": 37,
     "metadata": {},
     "output_type": "execute_result"
    }
   ],
   "source": [
    "pay = df1[\"payment_type\"].head(2000).values\n",
    "pay"
   ]
  },
  {
   "cell_type": "code",
   "execution_count": 34,
   "metadata": {},
   "outputs": [],
   "source": [
    "from bokeh.plotting import curdoc, figure, show"
   ]
  },
  {
   "cell_type": "code",
   "execution_count": 39,
   "metadata": {},
   "outputs": [],
   "source": [
    "x = pul\n",
    "y = pay\n",
    "\n",
    "curdoc().theme = 'caliber'\n",
    "\n",
    "p = figure(title='caliber', width=800, height=800)\n",
    "p.line(x, y)\n",
    "\n",
    "show(p)"
   ]
  },
  {
   "cell_type": "markdown",
   "metadata": {},
   "source": [
    "## Output - https://drive.google.com/file/d/1NYmi_MjZC_Gq8dm4NKOym3CheEzVJBLw/view?usp=share_link"
   ]
  },
  {
   "cell_type": "code",
   "execution_count": null,
   "metadata": {},
   "outputs": [],
   "source": []
  }
 ],
 "metadata": {
  "kernelspec": {
   "display_name": "Python 3",
   "language": "python",
   "name": "python3"
  },
  "language_info": {
   "codemirror_mode": {
    "name": "ipython",
    "version": 3
   },
   "file_extension": ".py",
   "mimetype": "text/x-python",
   "name": "python",
   "nbconvert_exporter": "python",
   "pygments_lexer": "ipython3",
   "version": "3.8.5"
  }
 },
 "nbformat": 4,
 "nbformat_minor": 4
}
