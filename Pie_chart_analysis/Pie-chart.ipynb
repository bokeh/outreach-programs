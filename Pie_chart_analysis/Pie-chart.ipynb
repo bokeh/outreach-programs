{
 "cells": [
  {
   "attachments": {},
   "cell_type": "markdown",
   "metadata": {},
   "source": [
    "Visualization-2:Pie chart showing preferences of passengers in using payment methods. "
   ]
  },
  {
   "cell_type": "code",
   "execution_count": 1,
   "metadata": {},
   "outputs": [],
   "source": [
    "import pandas as pd\n",
    "import numpy as np"
   ]
  },
  {
   "cell_type": "code",
   "execution_count": 2,
   "metadata": {},
   "outputs": [
    {
     "name": "stdout",
     "output_type": "stream",
     "text": [
      "    VendorID tpep_pickup_datetime tpep_dropoff_datetime  passenger_count  \\\n",
      "0          1  2022-01-01 00:35:40   2022-01-01 00:53:29              2.0   \n",
      "1          1  2022-01-01 00:33:43   2022-01-01 00:42:07              1.0   \n",
      "2          2  2022-01-01 00:53:21   2022-01-01 01:02:19              1.0   \n",
      "3          2  2022-01-01 00:25:21   2022-01-01 00:35:23              1.0   \n",
      "4          2  2022-01-01 00:36:48   2022-01-01 01:14:20              1.0   \n",
      "..       ...                  ...                   ...              ...   \n",
      "65         2  2022-01-01 00:41:32   2022-01-01 00:45:35              1.0   \n",
      "66         2  2022-01-01 00:13:17   2022-01-01 00:18:10              1.0   \n",
      "67         2  2022-01-01 00:22:03   2022-01-01 00:25:37              1.0   \n",
      "68         2  2022-01-01 00:27:30   2022-01-01 00:32:51              1.0   \n",
      "69         2  2022-01-01 00:52:33   2022-01-01 00:58:07              1.0   \n",
      "\n",
      "    trip_distance  RatecodeID store_and_fwd_flag  PULocationID  DOLocationID  \\\n",
      "0            3.80         1.0                  N           142           236   \n",
      "1            2.10         1.0                  N           236            42   \n",
      "2            0.97         1.0                  N           166           166   \n",
      "3            1.09         1.0                  N           114            68   \n",
      "4            4.30         1.0                  N            68           163   \n",
      "..            ...         ...                ...           ...           ...   \n",
      "65           1.11         1.0                  N           263           262   \n",
      "66           1.14         1.0                  N           237           236   \n",
      "67           0.69         1.0                  N           236           262   \n",
      "68           1.10         1.0                  N           262           141   \n",
      "69           0.87         1.0                  N           141           229   \n",
      "\n",
      "    payment_type  fare_amount  extra  mta_tax  tip_amount  tolls_amount  \\\n",
      "0              1         14.5    3.0      0.5        3.65           0.0   \n",
      "1              1          8.0    0.5      0.5        4.00           0.0   \n",
      "2              1          7.5    0.5      0.5        1.76           0.0   \n",
      "3              2          8.0    0.5      0.5        0.00           0.0   \n",
      "4              1         23.5    0.5      0.5        3.00           0.0   \n",
      "..           ...          ...    ...      ...         ...           ...   \n",
      "65             2          5.5    0.5      0.5        0.00           0.0   \n",
      "66             2          6.0    0.5      0.5        0.00           0.0   \n",
      "67             1          4.5    0.5      0.5        1.66           0.0   \n",
      "68             2          6.0    0.5      0.5        0.00           0.0   \n",
      "69             1          5.5    0.5      0.5        2.32           0.0   \n",
      "\n",
      "    improvement_surcharge  total_amount  congestion_surcharge  airport_fee  \n",
      "0                     0.3         21.95                   2.5          0.0  \n",
      "1                     0.3         13.30                   0.0          0.0  \n",
      "2                     0.3         10.56                   0.0          0.0  \n",
      "3                     0.3         11.80                   2.5          0.0  \n",
      "4                     0.3         30.30                   2.5          0.0  \n",
      "..                    ...           ...                   ...          ...  \n",
      "65                    0.3          9.30                   2.5          0.0  \n",
      "66                    0.3          9.80                   2.5          0.0  \n",
      "67                    0.3          9.96                   2.5          0.0  \n",
      "68                    0.3          9.80                   2.5          0.0  \n",
      "69                    0.3         11.62                   2.5          0.0  \n",
      "\n",
      "[70 rows x 19 columns]\n"
     ]
    }
   ],
   "source": [
    "#Reading the parquet file using pandas\n",
    "trips = pd.read_parquet('C:/Users/Arpita/Downloads/yellow_tripdata_2022-01.parquet',engine=\"auto\",columns=None)\n",
    "#Taking the subset of first 70 rowws of the given data\n",
    "df=trips.head(70)\n",
    "print(df)"
   ]
  },
  {
   "cell_type": "code",
   "execution_count": 3,
   "metadata": {},
   "outputs": [
    {
     "data": {
      "text/html": [
       "<div>\n",
       "<style scoped>\n",
       "    .dataframe tbody tr th:only-of-type {\n",
       "        vertical-align: middle;\n",
       "    }\n",
       "\n",
       "    .dataframe tbody tr th {\n",
       "        vertical-align: top;\n",
       "    }\n",
       "\n",
       "    .dataframe thead th {\n",
       "        text-align: right;\n",
       "    }\n",
       "</style>\n",
       "<table border=\"1\" class=\"dataframe\">\n",
       "  <thead>\n",
       "    <tr style=\"text-align: right;\">\n",
       "      <th></th>\n",
       "      <th>VendorID</th>\n",
       "      <th>tpep_pickup_datetime</th>\n",
       "      <th>tpep_dropoff_datetime</th>\n",
       "      <th>passenger_count</th>\n",
       "      <th>trip_distance</th>\n",
       "      <th>RatecodeID</th>\n",
       "      <th>store_and_fwd_flag</th>\n",
       "      <th>PULocationID</th>\n",
       "      <th>DOLocationID</th>\n",
       "      <th>payment_type</th>\n",
       "      <th>fare_amount</th>\n",
       "      <th>extra</th>\n",
       "      <th>mta_tax</th>\n",
       "      <th>tip_amount</th>\n",
       "      <th>tolls_amount</th>\n",
       "      <th>improvement_surcharge</th>\n",
       "      <th>total_amount</th>\n",
       "      <th>congestion_surcharge</th>\n",
       "      <th>airport_fee</th>\n",
       "    </tr>\n",
       "  </thead>\n",
       "  <tbody>\n",
       "  </tbody>\n",
       "</table>\n",
       "</div>"
      ],
      "text/plain": [
       "Empty DataFrame\n",
       "Columns: [VendorID, tpep_pickup_datetime, tpep_dropoff_datetime, passenger_count, trip_distance, RatecodeID, store_and_fwd_flag, PULocationID, DOLocationID, payment_type, fare_amount, extra, mta_tax, tip_amount, tolls_amount, improvement_surcharge, total_amount, congestion_surcharge, airport_fee]\n",
       "Index: []"
      ]
     },
     "execution_count": 3,
     "metadata": {},
     "output_type": "execute_result"
    }
   ],
   "source": [
    "trips.head(0)"
   ]
  },
  {
   "cell_type": "code",
   "execution_count": 4,
   "metadata": {},
   "outputs": [],
   "source": [
    "pay1={\"Credit Card\":0,\"Cash\":0,\"No Change\":0,\"Dispute\":0,\"Unknown\":0}"
   ]
  },
  {
   "cell_type": "code",
   "execution_count": 5,
   "metadata": {},
   "outputs": [
    {
     "name": "stderr",
     "output_type": "stream",
     "text": [
      "C:\\Users\\Arpita\\AppData\\Local\\Temp\\ipykernel_10464\\2671891849.py:3: SettingWithCopyWarning: \n",
      "A value is trying to be set on a copy of a slice from a DataFrame.\n",
      "Try using .loc[row_indexer,col_indexer] = value instead\n",
      "\n",
      "See the caveats in the documentation: https://pandas.pydata.org/pandas-docs/stable/user_guide/indexing.html#returning-a-view-versus-a-copy\n",
      "  df['payment_types_explicit']= df['payment_type'].map(paymenttypes)\n"
     ]
    }
   ],
   "source": [
    "paymenttypes = {1:'Credit Card', 2:'Cash', 3:'No change', 4:'Dispute', 5:'Unknown'}\n",
    "\n",
    "df['payment_types_explicit']= df['payment_type'].map(paymenttypes)"
   ]
  },
  {
   "cell_type": "code",
   "execution_count": 6,
   "metadata": {},
   "outputs": [
    {
     "name": "stdout",
     "output_type": "stream",
     "text": [
      "{'Credit Card': 47, 'Cash': 20, 'Dispute': 2, 'No change': 1}\n"
     ]
    }
   ],
   "source": [
    "pay=dict(df[\"payment_types_explicit\"].value_counts())\n",
    "\n",
    "print(pay)\n",
    "##{1:'Credit Card', 2:'Cash', 3:'No change', 4:'Dispute', 5:'Unknown'}"
   ]
  },
  {
   "cell_type": "code",
   "execution_count": 7,
   "metadata": {},
   "outputs": [],
   "source": [
    "\n",
    "from math import pi\n",
    "\n",
    "from bokeh.palettes import Category20\n",
    "from bokeh.plotting import figure, show\n",
    "from bokeh.transform import cumsum\n",
    "\n",
    "\n",
    "\n",
    "\n",
    "data = pd.Series(pay).reset_index(name='value').rename(columns={'index': 'number'})\n",
    "data['angle'] = data['value']/data['value'].sum() * 2*pi\n",
    "data['color'] = Category20[len(pay)]\n",
    "\n",
    "p = figure(height=350, title=\"Pie Chart\", toolbar_location=None,\n",
    "           tools=\"hover\", tooltips=\"@number: @value\", x_range=(-0.5, 1.0))\n",
    "\n",
    "p.wedge(x=0, y=1, radius=0.4,\n",
    "        start_angle=cumsum('angle', include_zero=True), end_angle=cumsum('angle'),\n",
    "        line_color=\"white\", fill_color='color', legend_field='number', source=data)\n",
    "\n",
    "p.axis.axis_label = None\n",
    "p.axis.visible = False\n",
    "p.grid.grid_line_color = None\n",
    "\n",
    "show(p)\n"
   ]
  },
  {
   "cell_type": "code",
   "execution_count": 8,
   "metadata": {},
   "outputs": [
    {
     "name": "stdout",
     "output_type": "stream",
     "text": [
      "{1.0: 38, 2.0: 17, 3.0: 6, 4.0: 5, 5.0: 3, 6.0: 1}\n"
     ]
    }
   ],
   "source": [
    "passenger_c=dict(df[\"passenger_count\"].value_counts())\n",
    "print(passenger_c)"
   ]
  },
  {
   "attachments": {},
   "cell_type": "markdown",
   "metadata": {},
   "source": [
    "VIsualization:3--> Pie chart for number of passengers in the a taxi ride."
   ]
  },
  {
   "cell_type": "code",
   "execution_count": 9,
   "metadata": {},
   "outputs": [],
   "source": [
    "data = pd.Series(passenger_c).reset_index(name='value').rename(columns={'index': 'number_of_passengers'})\n",
    "data['angle'] = data['value']/data['value'].sum() * 2*pi\n",
    "data['color'] = Category20[len(passenger_c)]\n",
    "\n",
    "p = figure(height=350, title=\"Pie Chart\", toolbar_location=None,\n",
    "           tools=\"hover\", tooltips=\"@number_of_passengers: @value\", x_range=(-0.5, 1.0))\n",
    "\n",
    "p.wedge(x=0, y=1, radius=0.4,\n",
    "        start_angle=cumsum('angle', include_zero=True), end_angle=cumsum('angle'),\n",
    "        line_color=\"white\", fill_color='color', legend_field='number_of_passengers', source=data)\n",
    "\n",
    "p.axis.axis_label = None\n",
    "p.axis.visible = False\n",
    "p.grid.grid_line_color = None\n",
    "\n",
    "show(p)\n"
   ]
  }
 ],
 "metadata": {
  "kernelspec": {
   "display_name": "Python 3",
   "language": "python",
   "name": "python3"
  },
  "language_info": {
   "codemirror_mode": {
    "name": "ipython",
    "version": 3
   },
   "file_extension": ".py",
   "mimetype": "text/x-python",
   "name": "python",
   "nbconvert_exporter": "python",
   "pygments_lexer": "ipython3",
   "version": "3.10.4"
  },
  "orig_nbformat": 4
 },
 "nbformat": 4,
 "nbformat_minor": 2
}
