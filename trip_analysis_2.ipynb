{
 "cells": [
  {
   "cell_type": "code",
   "execution_count": 41,
   "metadata": {},
   "outputs": [
    {
     "name": "stderr",
     "output_type": "stream",
     "text": [
      "C:\\Users\\Arpita\\AppData\\Local\\Temp\\ipykernel_8256\\4081441582.py:17: FutureWarning: null_counts is deprecated. Use show_counts instead\n",
      "  print(trips.info(null_counts=True))\n"
     ]
    },
    {
     "name": "stdout",
     "output_type": "stream",
     "text": [
      "<class 'pandas.core.frame.DataFrame'>\n",
      "RangeIndex: 2463931 entries, 0 to 2463930\n",
      "Data columns (total 21 columns):\n",
      " #   Column                 Non-Null Count    Dtype          \n",
      "---  ------                 --------------    -----          \n",
      " 0   VendorID               2463931 non-null  int64          \n",
      " 1   tpep_pickup_datetime   2463931 non-null  datetime64[ns] \n",
      " 2   tpep_dropoff_datetime  2463931 non-null  datetime64[ns] \n",
      " 3   passenger_count        2392428 non-null  float64        \n",
      " 4   trip_distance          2463931 non-null  float64        \n",
      " 5   RatecodeID             2392428 non-null  float64        \n",
      " 6   store_and_fwd_flag     2392428 non-null  object         \n",
      " 7   PULocationID           2463931 non-null  int64          \n",
      " 8   DOLocationID           2463931 non-null  int64          \n",
      " 9   payment_type           2463931 non-null  int64          \n",
      " 10  fare_amount            2463931 non-null  float64        \n",
      " 11  extra                  2463931 non-null  float64        \n",
      " 12  mta_tax                2463931 non-null  float64        \n",
      " 13  tip_amount             2463931 non-null  float64        \n",
      " 14  tolls_amount           2463931 non-null  float64        \n",
      " 15  improvement_surcharge  2463931 non-null  float64        \n",
      " 16  total_amount           2463931 non-null  float64        \n",
      " 17  congestion_surcharge   2392428 non-null  float64        \n",
      " 18  airport_fee            2392428 non-null  float64        \n",
      " 19  total time taken       2463931 non-null  timedelta64[ns]\n",
      " 20  Weekday_pickup         2463931 non-null  object         \n",
      "dtypes: datetime64[ns](2), float64(12), int64(4), object(2), timedelta64[ns](1)\n",
      "memory usage: 394.8+ MB\n",
      "None\n"
     ]
    }
   ],
   "source": [
    "import pandas as pd\n",
    "import numpy as np\n",
    "#Reading the parquet file using pandas\n",
    "trips = pd.read_parquet('C:/Users/Arpita/Downloads/yellow_tripdata_2022-01.parquet',engine=\"auto\",columns=None)\n",
    "\n",
    "#deriving a new column of time taken for the trip\n",
    "trips[\"total time taken\"]=trips[\"tpep_dropoff_datetime\"]-trips[\"tpep_pickup_datetime\"]\n",
    "\n",
    "from datetime import datetime\n",
    "trips['Weekday_pickup'] =trips[\"tpep_pickup_datetime\"].dt.strftime('%A')\n",
    "\n",
    "#Taking the subset of first 70 rowws of the given data\n",
    "df=trips.head(70)\n",
    "#print(df)\n",
    "\n",
    "#checking for the enries with null values\n",
    "print(trips.info(null_counts=True))\n",
    "\n",
    "#removing the null values\n",
    "trips.dropna(how=\"any\",inplace = True)"
   ]
  },
  {
   "cell_type": "code",
   "execution_count": 42,
   "metadata": {},
   "outputs": [
    {
     "name": "stdout",
     "output_type": "stream",
     "text": [
      "<class 'pandas._libs.tslibs.timedeltas.Timedelta'>\n"
     ]
    }
   ],
   "source": [
    "\n",
    "busydays = dict(trips.groupby(by=\"Weekday_pickup\")[\"total time taken\"].sum())\n",
    "print(type(busydays[\"Thursday\"]))"
   ]
  },
  {
   "cell_type": "code",
   "execution_count": 43,
   "metadata": {},
   "outputs": [
    {
     "name": "stdout",
     "output_type": "stream",
     "text": [
      "{'Friday': 86136.5075, 'Monday': 84549.2336111111, 'Saturday': 81962.26944444445, 'Sunday': 78360.00722222222, 'Thursday': 83047.21555555555, 'Tuesday': 73126.91694444444, 'Wednesday': 76679.83}\n"
     ]
    }
   ],
   "source": [
    "weekdays=busydays.keys()\n",
    "busydays2={i: busydays[i].total_seconds()/(3600) for i in weekdays }\n",
    "print(busydays2)"
   ]
  },
  {
   "cell_type": "code",
   "execution_count": 50,
   "metadata": {},
   "outputs": [],
   "source": [
    "import pandas as pd\n",
    "from bokeh.palettes import Bright6\n",
    "from bokeh.plotting import figure, show\n",
    "from bokeh.transform import factor_cmap\n",
    "\n",
    "\n",
    "#from bokeh.sampledata.stocks import AAPL\n",
    "\n",
    "#df = pd.DataFrame(AAPL)\n",
    "#df['date'] = pd.to_datetime(df['date'])\n",
    "x=list(busydays.keys())\n",
    "y=list(busydays.values())\n",
    "\n",
    "\n",
    "# create a new plot with a datetime axis type\n",
    "p = figure(width=800, height=250, x_axis_type=\"datetime\")\n",
    "\n",
    "p.vbar(x=x, top=y, fill_color=factor_cmap(x, palette=Bright6, factors=x), alpha=0.5)\n",
    "\n",
    "p.y_range.start = 70000\n",
    "\n",
    "show(p)"
   ]
  }
 ],
 "metadata": {
  "kernelspec": {
   "display_name": "Python 3",
   "language": "python",
   "name": "python3"
  },
  "language_info": {
   "codemirror_mode": {
    "name": "ipython",
    "version": 3
   },
   "file_extension": ".py",
   "mimetype": "text/x-python",
   "name": "python",
   "nbconvert_exporter": "python",
   "pygments_lexer": "ipython3",
   "version": "3.10.4"
  },
  "orig_nbformat": 4
 },
 "nbformat": 4,
 "nbformat_minor": 2
}
